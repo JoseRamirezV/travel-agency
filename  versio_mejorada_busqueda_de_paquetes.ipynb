{
  "nbformat": 4,
  "nbformat_minor": 0,
  "metadata": {
    "colab": {
      "provenance": [],
      "toc_visible": true,
      "authorship_tag": "ABX9TyM4Xtx2Ba2PxcTUgCCPHiLd",
      "include_colab_link": true
    },
    "kernelspec": {
      "name": "python3",
      "display_name": "Python 3"
    },
    "language_info": {
      "name": "python"
    }
  },
  "cells": [
    {
      "cell_type": "markdown",
      "metadata": {
        "id": "view-in-github",
        "colab_type": "text"
      },
      "source": [
        "<a href=\"https://colab.research.google.com/github/JoseRamirezV/travel-agency/blob/searching_package_feature/%20versio_mejorada_busqueda_de_paquetes.ipynb\" target=\"_parent\"><img src=\"https://colab.research.google.com/assets/colab-badge.svg\" alt=\"Open In Colab\"/></a>"
      ]
    },
    {
      "cell_type": "markdown",
      "source": [],
      "metadata": {
        "id": "H42UbMEZxrf8"
      }
    },
    {
      "cell_type": "markdown",
      "source": [
        "# Nueva sección"
      ],
      "metadata": {
        "id": "LIDNa4rvvoJc"
      }
    },
    {
      "cell_type": "code",
      "source": [
        "# Base de datos de paquetes turísticos\n",
        "paquetes_turisticos = [\n",
        "    {\"destino\": \"Paris\", \"duracion\": 7, \"precio\": 1200},\n",
        "    {\"destino\": \"New York\", \"duracion\": 5, \"precio\": 1500},\n",
        "    {\"destino\": \"Tokyo\", \"duracion\": 10, \"precio\": 2000},\n",
        "    {\"destino\": \"Cancun\", \"duracion\": 7, \"precio\": 1000},\n",
        "    {\"destino\": \"Roma\", \"duracion\": 5, \"precio\": 1100},\n",
        "]\n",
        "\n",
        "# Función para buscar paquetes turísticos\n",
        "def buscar_paquete(paquetes, destino=None, duracion=None, precio_max=None):\n",
        "    resultados = []\n",
        "    for paquete in paquetes:\n",
        "        if (destino is None or paquete[\"destino\"].lower() == destino.lower()) and \\\n",
        "           (duracion is None or paquete[\"duracion\"] == duracion) and \\\n",
        "           (precio_max is None or paquete[\"precio\"] <= precio_max):\n",
        "            resultados.append(paquete)\n",
        "    return resultados\n",
        "\n",
        "# Lista para almacenar los datos de los clientes\n",
        "customers = []\n",
        "\n",
        "while True:\n",
        "    try:\n",
        "        id = float(input(\"Digite su número de documento (solo números): \"))\n",
        "    except ValueError:\n",
        "        print(\"Error: Por favor, ingrese un número válido.\")\n",
        "        continue\n",
        "\n",
        "    name = input(\"Digite su nombre completo: \")\n",
        "    last_name = input(\"Digite sus apellidos completos: \")\n",
        "\n",
        "    while True:\n",
        "        try:\n",
        "            age = int(input(\"Digite su edad: \"))\n",
        "            break\n",
        "        except ValueError:\n",
        "            print(\"Error: Por favor, ingrese un número válido para la edad.\")\n",
        "\n",
        "    while True:\n",
        "        try:\n",
        "            people_quantity = int(input(\"Ingrese la cantidad de personas que desean el viaje: \"))\n",
        "            break\n",
        "        except ValueError:\n",
        "            print(\"Error: Por favor, ingrese un número válido para la cantidad de personas.\")\n",
        "\n",
        "    place = input(\"Digite el lugar a visitar: \")\n",
        "\n",
        "    while True:\n",
        "        try:\n",
        "            travel_time = int(input(\"Ingrese la cantidad de días en la que permanecerá con nosotros: \"))\n",
        "            break\n",
        "        except ValueError:\n",
        "            print(\"Error: Por favor, ingrese un número válido para la cantidad de días.\")\n",
        "\n",
        "    while True:\n",
        "        try:\n",
        "            budget = float(input(\"Ingrese su presupuesto máximo para el viaje: \"))\n",
        "            break\n",
        "        except ValueError:\n",
        "            print(\"Error: Por favor, ingrese un valor válido para el presupuesto.\")\n",
        "\n",
        "    # Buscar paquetes turísticos según el lugar, la duración y el presupuesto ingresados\n",
        "    paquetes_encontrados = buscar_paquete(paquetes_turisticos, destino=place, duracion=travel_time, precio_max=budget)\n",
        "\n",
        "    if paquetes_encontrados:\n",
        "        print(\"Paquetes turísticos disponibles:\")\n",
        "        for paquete in paquetes_encontrados:\n",
        "            print(paquete)\n",
        "\n",
        "        # Calcular el precio total del paquete seleccionado\n",
        "        precio_total = paquetes_encontrados[0]['precio'] * people_quantity\n",
        "        print(f\"El precio total para {people_quantity} personas es: {precio_total}\")\n",
        "    else:\n",
        "        print(\"No se encontraron paquetes turísticos para los criterios especificados.\")\n",
        "\n",
        "    # Añadir los datos del cliente al diccionario\n",
        "    customers.append({\n",
        "        \"id\": id,\n",
        "        \"name\": name,\n",
        "        \"last_name\": last_name,\n",
        "        \"age\": age,\n",
        "        \"people_quantity\": people_quantity,\n",
        "        \"place\": place,\n",
        "        \"travel_time\": travel_time,\n",
        "        \"budget\": budget,\n",
        "        \"precio_total\": precio_total if paquetes_encontrados else None\n",
        "    })\n",
        "\n",
        "    # Preguntar si desea agregar otro cliente o finalizar\n",
        "    finalizar = input(\"¿Desea agregar otro cliente? (s/n): \").lower()\n",
        "\n",
        "    if finalizar == 'n':\n",
        "        break\n",
        "\n",
        "# Imprimir la lista de clientes al final\n",
        "print(\"Lista de clientes con plan: \")\n",
        "for customer in customers:\n",
        "    print(customer)\n"
      ],
      "metadata": {
        "colab": {
          "base_uri": "https://localhost:8080/"
        },
        "id": "aB2nXlqnvr4p",
        "outputId": "b4446c36-16d9-4db8-96d0-fe8f5ade3028"
      },
      "execution_count": null,
      "outputs": [
        {
          "output_type": "stream",
          "name": "stdout",
          "text": [
            "Digite su número de documento (solo números): 1003250202\n",
            "Digite su nombre completo: jhon angel\n",
            "Digite sus apellidos completos: rojas carvajal\n",
            "Digite su edad: 21\n",
            "Ingrese la cantidad de personas que desean el viaje: 2\n",
            "Digite el lugar a visitar: paris\n",
            "Ingrese la cantidad de días en la que permanecerá con nosotros: 5\n",
            "Ingrese su presupuesto máximo para el viaje: 1200\n",
            "No se encontraron paquetes turísticos para los criterios especificados.\n",
            "¿Desea agregar otro cliente? (s/n): n\n",
            "Lista de clientes con plan: \n",
            "{'id': 1003250202.0, 'name': 'jhon angel', 'last_name': 'rojas carvajal', 'age': 21, 'people_quantity': 2, 'place': 'paris', 'travel_time': 5, 'budget': 1200.0, 'precio_total': None}\n"
          ]
        }
      ]
    }
  ]
}